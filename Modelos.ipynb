{
 "cells": [
  {
   "cell_type": "code",
   "execution_count": 1,
   "metadata": {},
   "outputs": [
    {
     "name": "stderr",
     "output_type": "stream",
     "text": [
      "Using TensorFlow backend.\n"
     ]
    }
   ],
   "source": [
    "from io import StringIO\n",
    "import pandas as pd\n",
    "import numpy as np\n",
    "from sklearn.preprocessing import LabelEncoder\n",
    "from sklearn.model_selection import KFold, RepeatedKFold, GroupKFold, StratifiedKFold\n",
    "from sklearn.preprocessing import LabelEncoder\n",
    "from sklearn.ensemble import RandomForestClassifier\n",
    "from sklearn.model_selection import train_test_split, GridSearchCV\n",
    "from sklearn.metrics import confusion_matrix, precision_score, recall_score,accuracy_score, roc_auc_score, roc_curve\n",
    "from imblearn.over_sampling import RandomOverSampler\n",
    "from lightgbm import LGBMClassifier\n",
    "from sklearn.feature_selection import SelectFromModel\n",
    "from sklearn.decomposition import PCA\n",
    "import joblib\n",
    "import seaborn as sns\n",
    "import matplotlib.pyplot as plt\n",
    "from xgboost import XGBClassifier\n",
    "import scikitplot as skplt\n"
   ]
  },
  {
   "cell_type": "code",
   "execution_count": 2,
   "metadata": {},
   "outputs": [],
   "source": [
    "pd.set_option('display.max_columns', None)\n",
    "np.set_printoptions(suppress=True)"
   ]
  },
  {
   "cell_type": "code",
   "execution_count": 3,
   "metadata": {},
   "outputs": [],
   "source": [
    "data_file = \"/disco-grande/datos.csv\"\n",
    "df = pd.read_csv(data_file)"
   ]
  },
  {
   "cell_type": "code",
   "execution_count": 4,
   "metadata": {},
   "outputs": [],
   "source": [
    "# df = df[df[\"cc_chestpain\"] !=-2147483648]"
   ]
  },
  {
   "cell_type": "code",
   "execution_count": 5,
   "metadata": {},
   "outputs": [],
   "source": [
    "# Categorical boolean mask\n",
    "categorical_feature_mask = df.dtypes==object\n",
    "# filter categorical columns using mask and turn it into a list\n",
    "categorical_cols = df.columns[categorical_feature_mask].tolist()\n",
    "categorical_cols = [col for col in categorical_cols if col != 'disposition']"
   ]
  },
  {
   "cell_type": "code",
   "execution_count": 6,
   "metadata": {},
   "outputs": [],
   "source": [
    "float_feature_mask = df.dtypes==np.float64\n",
    "int64_feature_mask = df.dtypes==np.int64\n",
    "int32_feature_mask = df.dtypes==np.int32\n",
    "uint8_feature_mask = df.dtypes==np.uint8\n",
    "numeric_cols = df.columns[uint8_feature_mask].tolist() + df.columns[float_feature_mask].tolist() + df.columns[int64_feature_mask].tolist() + df.columns[int32_feature_mask].tolist()"
   ]
  },
  {
   "cell_type": "code",
   "execution_count": 7,
   "metadata": {},
   "outputs": [],
   "source": [
    "df[\"disposition\"] =  df[\"disposition\"].apply(lambda x: 1 if x  == 'Admit' else 0)\n",
    "# ONE HOT ENCODING de categoricos\n",
    "USE_ONE_HOT = False\n",
    "if USE_ONE_HOT:\n",
    "    df = pd.get_dummies(df, columns=categorical_cols)\n",
    "else:\n",
    "    for col in categorical_cols:\n",
    "        le = LabelEncoder()\n",
    "        df[col] = le.fit_transform(df[col])"
   ]
  },
  {
   "cell_type": "code",
   "execution_count": 8,
   "metadata": {},
   "outputs": [],
   "source": [
    "null_columns= []\n",
    "for col in df.columns:\n",
    "    num_nulos = df[col].isna().sum()\n",
    "    if num_nulos:\n",
    "        null_columns.append((col, num_nulos))"
   ]
  },
  {
   "cell_type": "code",
   "execution_count": 9,
   "metadata": {},
   "outputs": [],
   "source": [
    "for col, l in null_columns:\n",
    "    df[col] = df[col].fillna(0)"
   ]
  },
  {
   "cell_type": "code",
   "execution_count": 10,
   "metadata": {},
   "outputs": [],
   "source": [
    "total_count = len(df)\n",
    "NULL_THREESHOLD = 0.4\n",
    "exclude_columns = [col for col, count in null_columns if  count / total_count > NULL_THREESHOLD  ]\n",
    "feat_labels = [col  for col in df.columns if col != 'disposition' and col not in exclude_columns]"
   ]
  },
  {
   "cell_type": "code",
   "execution_count": 11,
   "metadata": {},
   "outputs": [],
   "source": [
    "X = df[feat_labels]\n",
    "Y = df['disposition']\n",
    "random_state=42\n",
    "X_train, X_test, Y_train, Y_test = train_test_split(X,Y, random_state=random_state)\n",
    "del X\n",
    "del Y"
   ]
  },
  {
   "cell_type": "code",
   "execution_count": 32,
   "metadata": {
    "scrolled": true
   },
   "outputs": [
    {
     "data": {
      "text/plain": [
       "(array([0.99998158, 0.00001842]), 0.9999999999999916)"
      ]
     },
     "execution_count": 32,
     "metadata": {},
     "output_type": "execute_result"
    }
   ],
   "source": [
    "pca = PCA(n_components=2)\n",
    "pca.fit(X_train)\n",
    "pca.explained_variance_ratio_, pca.explained_variance_ratio_.sum()"
   ]
  },
  {
   "cell_type": "code",
   "execution_count": 13,
   "metadata": {},
   "outputs": [
    {
     "data": {
      "text/plain": [
       "(array([0.99998158, 0.00001842]), 0.999999999999992)"
      ]
     },
     "execution_count": 13,
     "metadata": {},
     "output_type": "execute_result"
    }
   ],
   "source": []
  },
  {
   "cell_type": "code",
   "execution_count": 14,
   "metadata": {},
   "outputs": [],
   "source": [
    "X_train_pca = pca.transform(X_train)\n",
    "X_test_pca = pca.transform(X_test)"
   ]
  },
  {
   "cell_type": "code",
   "execution_count": 28,
   "metadata": {},
   "outputs": [],
   "source": [
    "n_splits = 4\n",
    "def execute_model_base(model, cv = None, X_train = X_train, X_test = X_test, print_score=True, plot = True, **kwargs):\n",
    "  model_kwargs = {'eval_metric': 'auc'}\n",
    "  if cv:\n",
    "    for (train_idx, test_idx) in cv.split(X_train,Y_train):\n",
    "      if type(X_train) == np.ndarray:\n",
    "        model.fit(X_train[train_idx], Y_train[train_idx] if type(Y_train) == np.ndarray else Y_train.iloc[train_idx], **kwargs)\n",
    "      else:\n",
    "        model.fit(X_train.iloc[train_idx], Y_train.iloc[train_idx], **kwargs)\n",
    "  else:\n",
    "    model.fit(X_train, Y_train, **kwargs)\n",
    "\n",
    "  Y_pred = model.predict(X_test)\n",
    "  score = accuracy_score(Y_test, Y_pred)\n",
    "  precision = precision_score(Y_test, Y_pred)  \n",
    "  precision_ingresados = precision_score(Y_test, Y_pred, pos_label=0)\n",
    "  precision_no_ingresados = precision_score(Y_test, Y_pred, pos_label=1)\n",
    "  recall_ingresados = recall_score(Y_test, Y_pred, pos_label=0)\n",
    "  recall_no_ingresados = recall_score(Y_test, Y_pred, pos_label=1)\n",
    "  recall = recall_score(Y_test, Y_pred)\n",
    "  auc = roc_auc_score(Y_test, Y_pred)\n",
    "  if print_score:\n",
    "    print(\"Score = {0:.5f}\".format(score))\n",
    "#     print(\"Precision = {0:.5f} \".format(precision))\n",
    "    print(\"Precision Ingresados = {0:.5f} \".format(precision_ingresados))\n",
    "    print(\"Precision No Ingresados = {0:.5f} \".format(precision_no_ingresados))\n",
    "#     print(\"Recall = {0:.5f} \".format(recall))  \n",
    "    print(\"Recall Ingresados = {0:.5f} \".format(recall_ingresados))\n",
    "    print(\"Recall No Ingresados = {0:.5f} \".format(recall_no_ingresados))\n",
    "    print(\"AUC = {0:.5f}\".format(auc))\n",
    "  conf_matrix = confusion_matrix(Y_pred, Y_test)\n",
    "  if plot:\n",
    "    sns.heatmap(conf_matrix,annot=True,fmt=\"d\")\n",
    "    plt.show()\n",
    "    fpr, tpr, thresholds = roc_curve(Y_test, Y_pred)\n",
    "    plt.plot(fpr,tpr)\n",
    "    plt.show() \n",
    "def plot_score(model, X_train=X_train, X_test=X_test, print_score=True, plot = True):\n",
    "  Y_pred = model.predict(X_test)\n",
    "  score = accuracy_score(Y_test, Y_pred)\n",
    "  precision = precision_score(Y_test, Y_pred)  \n",
    "  precision_ingresados = precision_score(Y_test, Y_pred, pos_label=0)\n",
    "  precision_no_ingresados = precision_score(Y_test, Y_pred, pos_label=1)\n",
    "  recall_ingresados = recall_score(Y_test, Y_pred, pos_label=0)\n",
    "  recall_no_ingresados = recall_score(Y_test, Y_pred, pos_label=1)\n",
    "  recall = recall_score(Y_test, Y_pred)\n",
    "  auc = roc_auc_score(Y_test, Y_pred)\n",
    "  if print_score:\n",
    "    print(\"Score = {0:.5f} \".format(score))\n",
    "    print(\"Precision Ingresados = {0:.5f} \".format(precision_ingresados))\n",
    "    print(\"Precision No Ingresados = {0:.5f} \".format(precision_no_ingresados))\n",
    "    print(\"Recall Ingresados = {0:.5f} \".format(recall_ingresados))\n",
    "    print(\"Recall No Ingresados = {0:.5f} \".format(recall_no_ingresados))\n",
    "    print(\"AUC = {0:.5f}\".format(auc))\n",
    "  conf_matrix = confusion_matrix(Y_pred, Y_test)\n",
    "  if plot:\n",
    "    sns.heatmap(conf_matrix,annot=True,fmt=\"d\")\n",
    "    plt.show()\n",
    "    fpr, tpr, thresholds = roc_curve(Y_test, Y_pred)\n",
    "    plt.plot(fpr,tpr)\n",
    "    plt.show() \n",
    "def execute_model_kfold(model, *args, **kwargs):\n",
    "  return execute_model_base(model, cv=KFold(n_splits=n_splits, random_state = random_state), *args, **kwargs)\n",
    "def execute_model_stratified_kfold(model, *args, **kwargs):\n",
    "  return execute_model_base(model, cv=StratifiedKFold(n_splits=n_splits, random_state = random_state), *args, **kwargs)\n",
    "def execute_model_repeated_kfold(model, *args, **kwargs):\n",
    "  return execute_model_base(model, cv=RepeatedKFold(n_repeats=8, n_splits=n_splits, random_state = random_state), *args, **kwargs)\n",
    "def print_feature_importance_lgbm(model, X_train=X_train):\n",
    "  feature_imp = pd.DataFrame(sorted(zip(model.feature_importances_,X_train.columns)), columns=['Value','Feature'])\n",
    "  return feature_imp.sort_values(\"Value\", ascending =False)\n",
    "def print_feature_importance_rf(model):\n",
    "  sfm = SelectFromModel(model)\n",
    "  sfm.fit(X_train, Y_train)\n",
    "  for feature_list_index in sfm.get_support(indices=True):\n",
    "      print(feat_labels[feature_list_index])"
   ]
  },
  {
   "cell_type": "code",
   "execution_count": 30,
   "metadata": {},
   "outputs": [
    {
     "name": "stdout",
     "output_type": "stream",
     "text": [
      "Score = 0.85451\n",
      "Precision Ingresados = 0.85431 \n",
      "Precision No Ingresados = 0.85526 \n",
      "Recall Ingresados = 0.95586 \n",
      "Recall No Ingresados = 0.61540 \n",
      "AUC = 0.78563\n"
     ]
    },
    {
     "data": {
      "image/png": "[encoded data removed]",
      "text/plain": [
       "<Figure size 432x288 with 2 Axes>"
      ]
     },
     "metadata": {
      "needs_background": "light"
     },
     "output_type": "display_data"
    },
    {
     "data": {
      "image/png": "[encoded data removed]",
      "text/plain": [
       "<Figure size 432x288 with 1 Axes>"
      ]
     },
     "metadata": {
      "needs_background": "light"
     },
     "output_type": "display_data"
    }
   ],
   "source": [
    "model_rf = RandomForestClassifier(n_estimators=40, min_samples_leaf=20)\n",
    "execute_model_stratified_kfold(model_rf)"
   ]
  },
  {
   "cell_type": "code",
   "execution_count": 16,
   "metadata": {},
   "outputs": [
    {
     "data": {
      "text/plain": [
       "(0.7026901653208109, 0.29730983467918914)"
      ]
     },
     "execution_count": 16,
     "metadata": {},
     "output_type": "execute_result"
    }
   ],
   "source": [
    "r = df[\"disposition\"].value_counts()\n",
    "r[0] / len(df), r[1] / len(df)"
   ]
  },
  {
   "cell_type": "code",
   "execution_count": null,
   "metadata": {},
   "outputs": [],
   "source": [
    "joblib.dump(model_rf, 'models/normal_rf.model')"
   ]
  },
  {
   "cell_type": "code",
   "execution_count": 24,
   "metadata": {
    "scrolled": false
   },
   "outputs": [
    {
     "name": "stdout",
     "output_type": "stream",
     "text": [
      "Score = 0.84991\n",
      "Precision Ingresados = 0.92439 \n",
      "Precision No Ingresados = 0.71121 \n",
      "Recall Ingresados = 0.85634 \n",
      "Recall No Ingresados = 0.83474 \n",
      "AUC = 0.84554\n"
     ]
    },
    {
     "data": {
      "image/png": "[encoded data removed]",
      "text/plain": [
       "<Figure size 432x288 with 2 Axes>"
      ]
     },
     "metadata": {
      "needs_background": "light"
     },
     "output_type": "display_data"
    },
    {
     "data": {
      "image/png": "[encoded data removed]",
      "text/plain": [
       "<Figure size 432x288 with 1 Axes>"
      ]
     },
     "metadata": {
      "needs_background": "light"
     },
     "output_type": "display_data"
    },
    {
     "name": "stdout",
     "output_type": "stream",
     "text": [
      "CPU times: user 15min 14s, sys: 11.4 s, total: 15min 25s\n",
      "Wall time: 1min 10s\n"
     ]
    }
   ],
   "source": [
    "%%time\n",
    "model = LGBMClassifier(objective='binary', is_unbalance=True, boosting_type='gbdt', max_depth=20, num_leaves=50)\n",
    "execute_model_stratified_kfold(model, eval_metric='auc')"
   ]
  },
  {
   "cell_type": "code",
   "execution_count": 25,
   "metadata": {},
   "outputs": [
    {
     "name": "stdout",
     "output_type": "stream",
     "text": [
      "Score = 0.82752\n",
      "Precision Ingresados = 0.89715 \n",
      "Precision No Ingresados = 0.68802 \n",
      "Recall Ingresados = 0.85210 \n",
      "Recall No Ingresados = 0.76953 \n",
      "AUC = 0.81082\n"
     ]
    },
    {
     "data": {
      "image/png": "[encoded data removed]",
      "text/plain": [
       "<Figure size 432x288 with 2 Axes>"
      ]
     },
     "metadata": {
      "needs_background": "light"
     },
     "output_type": "display_data"
    },
    {
     "data": {
      "image/png": "[encoded data removed]",
      "text/plain": [
       "<Figure size 432x288 with 1 Axes>"
      ]
     },
     "metadata": {
      "needs_background": "light"
     },
     "output_type": "display_data"
    },
    {
     "name": "stdout",
     "output_type": "stream",
     "text": [
      "CPU times: user 4min 44s, sys: 406 ms, total: 4min 44s\n",
      "Wall time: 16.4 s\n"
     ]
    }
   ],
   "source": [
    "%%time\n",
    "highest_corr_x = ['meds_cardiovascular',\n",
    " 'esi',\n",
    " 'meds_gastrointestinal',\n",
    " 'meds_vitamins',\n",
    " 'meds_analgesics',\n",
    " 'meds_antiplateletdrugs',\n",
    " 'meds_psychotherapeuticdrugs',\n",
    " 'meds_diuretics',\n",
    " 'meds_cardiacdrugs',\n",
    " 'meds_elect/caloric/h2o',\n",
    " 'meds_antiasthmatics',\n",
    " 'meds_antihyperglycemics',\n",
    " 'htn',\n",
    " 'meds_cnsdrugs',\n",
    " 'meds_unclassifieddrugproducts',\n",
    " 'meds_anticoagulants',\n",
    " 'meds_thyroidpreps',\n",
    " 'meds_eentpreps',\n",
    " 'meds_hormones',\n",
    " 'meds_antiarthritics',\n",
    " 'n_surgeries',\n",
    " 'coronathero',\n",
    " 'hyperlipidem',\n",
    " 'chfnonhp',\n",
    " 'n_admissions',\n",
    " 'meds_antibiotics',\n",
    " 'arrivalmode',\n",
    " 'diabmelnoc',\n",
    " 'chrkidneydisease',\n",
    " 'dysrhythmia']\n",
    "\n",
    "model = LGBMClassifier(objective='binary', is_unbalance=True, boosting_type='gbdt', max_depth=20, num_leaves=50)\n",
    "execute_model_stratified_kfold(model, X_train=X_train[highest_corr_x], X_test=X_test[highest_corr_x])\n"
   ]
  },
  {
   "cell_type": "code",
   "execution_count": 106,
   "metadata": {},
   "outputs": [
    {
     "name": "stdout",
     "output_type": "stream",
     "text": [
      "Score = 0.82837 \n",
      "Precision = 0.68994 \n",
      "Recall = 0.76905 \n",
      "AUC = 0.81128\n"
     ]
    },
    {
     "data": {
      "image/png": "[encoded data removed]",
      "text/plain": [
       "<Figure size 432x288 with 2 Axes>"
      ]
     },
     "metadata": {
      "needs_background": "light"
     },
     "output_type": "display_data"
    },
    {
     "name": "stdout",
     "output_type": "stream",
     "text": [
      "CPU times: user 10.5 s, sys: 116 ms, total: 10.6 s\n",
      "Wall time: 2.43 s\n"
     ]
    }
   ],
   "source": [
    "%%time\n",
    "highest_corr_x = ['meds_cardiovascular',\n",
    " 'esi',\n",
    " 'meds_gastrointestinal',\n",
    " 'meds_vitamins',\n",
    " 'meds_analgesics',\n",
    " 'meds_antiplateletdrugs',\n",
    " 'meds_psychotherapeuticdrugs',\n",
    " 'meds_diuretics',\n",
    " 'meds_cardiacdrugs',\n",
    " 'meds_elect/caloric/h2o',\n",
    " 'meds_antiasthmatics',\n",
    " 'meds_antihyperglycemics',\n",
    " 'htn',\n",
    " 'meds_cnsdrugs',\n",
    " 'meds_unclassifieddrugproducts',\n",
    " 'meds_anticoagulants',\n",
    " 'meds_thyroidpreps',\n",
    " 'meds_eentpreps',\n",
    " 'meds_hormones',\n",
    " 'meds_antiarthritics',\n",
    " 'n_surgeries',\n",
    " 'coronathero',\n",
    " 'hyperlipidem',\n",
    " 'chfnonhp',\n",
    " 'n_admissions',\n",
    " 'meds_antibiotics',\n",
    " 'arrivalmode',\n",
    " 'diabmelnoc',\n",
    " 'chrkidneydisease',\n",
    " 'dysrhythmia']\n",
    "\n",
    "model_2 = LGBMClassifier(objective='binary', is_unbalance=True, max_depth=20, num_leaves=50, boosting_type='gbdt', )\n",
    "execute_model_base(model_2, X_train=X_train[highest_corr_x], X_test=X_test[highest_corr_x])\n"
   ]
  },
  {
   "cell_type": "code",
   "execution_count": 109,
   "metadata": {},
   "outputs": [
    {
     "data": {
      "text/plain": [
       "0.8354428356137714"
      ]
     },
     "execution_count": 109,
     "metadata": {},
     "output_type": "execute_result"
    }
   ],
   "source": [
    "y_pred = model_2.predict(X_test[highest_corr_x])\n",
    "precision_score(Y_test, y_pred, average='weighted')"
   ]
  },
  {
   "cell_type": "code",
   "execution_count": 104,
   "metadata": {},
   "outputs": [
    {
     "data": {
      "text/plain": [
       "0    98411\n",
       "1    41711\n",
       "Name: disposition, dtype: int64"
      ]
     },
     "execution_count": 104,
     "metadata": {},
     "output_type": "execute_result"
    }
   ],
   "source": [
    "Y_test.value_counts()"
   ]
  },
  {
   "cell_type": "code",
   "execution_count": 103,
   "metadata": {},
   "outputs": [
    {
     "data": {
      "text/html": [
       "<div>\n",
       "<style scoped>\n",
       "    .dataframe tbody tr th:only-of-type {\n",
       "        vertical-align: middle;\n",
       "    }\n",
       "\n",
       "    .dataframe tbody tr th {\n",
       "        vertical-align: top;\n",
       "    }\n",
       "\n",
       "    .dataframe thead th {\n",
       "        text-align: right;\n",
       "    }\n",
       "</style>\n",
       "<table border=\"1\" class=\"dataframe\">\n",
       "  <thead>\n",
       "    <tr style=\"text-align: right;\">\n",
       "      <th></th>\n",
       "      <th>Value</th>\n",
       "      <th>Feature</th>\n",
       "    </tr>\n",
       "  </thead>\n",
       "  <tbody>\n",
       "    <tr>\n",
       "      <th>29</th>\n",
       "      <td>498</td>\n",
       "      <td>n_admissions</td>\n",
       "    </tr>\n",
       "    <tr>\n",
       "      <th>28</th>\n",
       "      <td>473</td>\n",
       "      <td>esi</td>\n",
       "    </tr>\n",
       "    <tr>\n",
       "      <th>27</th>\n",
       "      <td>430</td>\n",
       "      <td>n_surgeries</td>\n",
       "    </tr>\n",
       "    <tr>\n",
       "      <th>26</th>\n",
       "      <td>357</td>\n",
       "      <td>arrivalmode</td>\n",
       "    </tr>\n",
       "    <tr>\n",
       "      <th>25</th>\n",
       "      <td>218</td>\n",
       "      <td>meds_psychotherapeuticdrugs</td>\n",
       "    </tr>\n",
       "    <tr>\n",
       "      <th>24</th>\n",
       "      <td>204</td>\n",
       "      <td>meds_cardiovascular</td>\n",
       "    </tr>\n",
       "    <tr>\n",
       "      <th>23</th>\n",
       "      <td>182</td>\n",
       "      <td>meds_gastrointestinal</td>\n",
       "    </tr>\n",
       "    <tr>\n",
       "      <th>22</th>\n",
       "      <td>175</td>\n",
       "      <td>meds_vitamins</td>\n",
       "    </tr>\n",
       "    <tr>\n",
       "      <th>21</th>\n",
       "      <td>172</td>\n",
       "      <td>meds_analgesics</td>\n",
       "    </tr>\n",
       "    <tr>\n",
       "      <th>20</th>\n",
       "      <td>170</td>\n",
       "      <td>meds_antiasthmatics</td>\n",
       "    </tr>\n",
       "    <tr>\n",
       "      <th>19</th>\n",
       "      <td>153</td>\n",
       "      <td>meds_antihyperglycemics</td>\n",
       "    </tr>\n",
       "    <tr>\n",
       "      <th>18</th>\n",
       "      <td>136</td>\n",
       "      <td>meds_antiarthritics</td>\n",
       "    </tr>\n",
       "    <tr>\n",
       "      <th>17</th>\n",
       "      <td>134</td>\n",
       "      <td>meds_antibiotics</td>\n",
       "    </tr>\n",
       "    <tr>\n",
       "      <th>16</th>\n",
       "      <td>127</td>\n",
       "      <td>meds_cnsdrugs</td>\n",
       "    </tr>\n",
       "    <tr>\n",
       "      <th>15</th>\n",
       "      <td>118</td>\n",
       "      <td>meds_diuretics</td>\n",
       "    </tr>\n",
       "    <tr>\n",
       "      <th>14</th>\n",
       "      <td>115</td>\n",
       "      <td>chrkidneydisease</td>\n",
       "    </tr>\n",
       "    <tr>\n",
       "      <th>13</th>\n",
       "      <td>104</td>\n",
       "      <td>htn</td>\n",
       "    </tr>\n",
       "    <tr>\n",
       "      <th>12</th>\n",
       "      <td>103</td>\n",
       "      <td>meds_eentpreps</td>\n",
       "    </tr>\n",
       "    <tr>\n",
       "      <th>11</th>\n",
       "      <td>102</td>\n",
       "      <td>meds_thyroidpreps</td>\n",
       "    </tr>\n",
       "    <tr>\n",
       "      <th>10</th>\n",
       "      <td>100</td>\n",
       "      <td>coronathero</td>\n",
       "    </tr>\n",
       "    <tr>\n",
       "      <th>9</th>\n",
       "      <td>94</td>\n",
       "      <td>meds_cardiacdrugs</td>\n",
       "    </tr>\n",
       "    <tr>\n",
       "      <th>8</th>\n",
       "      <td>93</td>\n",
       "      <td>meds_elect/caloric/h2o</td>\n",
       "    </tr>\n",
       "    <tr>\n",
       "      <th>7</th>\n",
       "      <td>93</td>\n",
       "      <td>meds_antiplateletdrugs</td>\n",
       "    </tr>\n",
       "    <tr>\n",
       "      <th>6</th>\n",
       "      <td>88</td>\n",
       "      <td>meds_unclassifieddrugproducts</td>\n",
       "    </tr>\n",
       "    <tr>\n",
       "      <th>5</th>\n",
       "      <td>86</td>\n",
       "      <td>hyperlipidem</td>\n",
       "    </tr>\n",
       "    <tr>\n",
       "      <th>4</th>\n",
       "      <td>85</td>\n",
       "      <td>chfnonhp</td>\n",
       "    </tr>\n",
       "    <tr>\n",
       "      <th>3</th>\n",
       "      <td>83</td>\n",
       "      <td>meds_anticoagulants</td>\n",
       "    </tr>\n",
       "    <tr>\n",
       "      <th>2</th>\n",
       "      <td>72</td>\n",
       "      <td>meds_hormones</td>\n",
       "    </tr>\n",
       "    <tr>\n",
       "      <th>1</th>\n",
       "      <td>68</td>\n",
       "      <td>diabmelnoc</td>\n",
       "    </tr>\n",
       "    <tr>\n",
       "      <th>0</th>\n",
       "      <td>67</td>\n",
       "      <td>dysrhythmia</td>\n",
       "    </tr>\n",
       "  </tbody>\n",
       "</table>\n",
       "</div>"
      ],
      "text/plain": [
       "    Value                        Feature\n",
       "29    498                   n_admissions\n",
       "28    473                            esi\n",
       "27    430                    n_surgeries\n",
       "26    357                    arrivalmode\n",
       "25    218    meds_psychotherapeuticdrugs\n",
       "24    204            meds_cardiovascular\n",
       "23    182          meds_gastrointestinal\n",
       "22    175                  meds_vitamins\n",
       "21    172                meds_analgesics\n",
       "20    170            meds_antiasthmatics\n",
       "19    153        meds_antihyperglycemics\n",
       "18    136            meds_antiarthritics\n",
       "17    134               meds_antibiotics\n",
       "16    127                  meds_cnsdrugs\n",
       "15    118                 meds_diuretics\n",
       "14    115               chrkidneydisease\n",
       "13    104                            htn\n",
       "12    103                 meds_eentpreps\n",
       "11    102              meds_thyroidpreps\n",
       "10    100                    coronathero\n",
       "9      94              meds_cardiacdrugs\n",
       "8      93         meds_elect/caloric/h2o\n",
       "7      93         meds_antiplateletdrugs\n",
       "6      88  meds_unclassifieddrugproducts\n",
       "5      86                   hyperlipidem\n",
       "4      85                       chfnonhp\n",
       "3      83            meds_anticoagulants\n",
       "2      72                  meds_hormones\n",
       "1      68                     diabmelnoc\n",
       "0      67                    dysrhythmia"
      ]
     },
     "execution_count": 103,
     "metadata": {},
     "output_type": "execute_result"
    }
   ],
   "source": [
    "df_features = print_feature_importance_lgbm(model_2, X_train=X_train[highest_corr_x])\n",
    "df_features"
   ]
  },
  {
   "cell_type": "code",
   "execution_count": 34,
   "metadata": {},
   "outputs": [
    {
     "name": "stdout",
     "output_type": "stream",
     "text": [
      "Score = 0.67720\n",
      "Precision Ingresados = 0.83362 \n",
      "Precision No Ingresados = 0.47087 \n",
      "Recall Ingresados = 0.67514 \n",
      "Recall No Ingresados = 0.68207 \n",
      "AUC = 0.67861\n"
     ]
    },
    {
     "data": {
      "image/png": "[encoded data removed]",
      "text/plain": [
       "<Figure size 432x288 with 2 Axes>"
      ]
     },
     "metadata": {
      "needs_background": "light"
     },
     "output_type": "display_data"
    },
    {
     "data": {
      "image/png": "[encoded data removed]",
      "text/plain": [
       "<Figure size 432x288 with 1 Axes>"
      ]
     },
     "metadata": {
      "needs_background": "light"
     },
     "output_type": "display_data"
    },
    {
     "name": "stdout",
     "output_type": "stream",
     "text": [
      "CPU times: user 12.5 s, sys: 112 ms, total: 12.6 s\n",
      "Wall time: 3.03 s\n"
     ]
    }
   ],
   "source": [
    "%%time\n",
    "model_lgbm_pca = LGBMClassifier(objective='binary', is_unbalance=True, max_depth=20, num_leaves=50)\n",
    "execute_model_stratified_kfold(model_lgbm_pca, X_train=X_train_pca,X_test=X_test_pca)"
   ]
  },
  {
   "cell_type": "code",
   "execution_count": 15,
   "metadata": {},
   "outputs": [
    {
     "data": {
      "text/html": [
       "<div>\n",
       "<style scoped>\n",
       "    .dataframe tbody tr th:only-of-type {\n",
       "        vertical-align: middle;\n",
       "    }\n",
       "\n",
       "    .dataframe tbody tr th {\n",
       "        vertical-align: top;\n",
       "    }\n",
       "\n",
       "    .dataframe thead th {\n",
       "        text-align: right;\n",
       "    }\n",
       "</style>\n",
       "<table border=\"1\" class=\"dataframe\">\n",
       "  <thead>\n",
       "    <tr style=\"text-align: right;\">\n",
       "      <th></th>\n",
       "      <th>Value</th>\n",
       "      <th>Feature</th>\n",
       "    </tr>\n",
       "  </thead>\n",
       "  <tbody>\n",
       "    <tr>\n",
       "      <th>691</th>\n",
       "      <td>218</td>\n",
       "      <td>esi</td>\n",
       "    </tr>\n",
       "    <tr>\n",
       "      <th>690</th>\n",
       "      <td>202</td>\n",
       "      <td>age</td>\n",
       "    </tr>\n",
       "    <tr>\n",
       "      <th>689</th>\n",
       "      <td>140</td>\n",
       "      <td>n_edvisits</td>\n",
       "    </tr>\n",
       "    <tr>\n",
       "      <th>688</th>\n",
       "      <td>136</td>\n",
       "      <td>triage_vital_hr</td>\n",
       "    </tr>\n",
       "    <tr>\n",
       "      <th>687</th>\n",
       "      <td>133</td>\n",
       "      <td>n_admissions</td>\n",
       "    </tr>\n",
       "    <tr>\n",
       "      <th>686</th>\n",
       "      <td>97</td>\n",
       "      <td>triage_vital_temp</td>\n",
       "    </tr>\n",
       "    <tr>\n",
       "      <th>685</th>\n",
       "      <td>96</td>\n",
       "      <td>dep_name_A</td>\n",
       "    </tr>\n",
       "    <tr>\n",
       "      <th>684</th>\n",
       "      <td>90</td>\n",
       "      <td>meds_cardiovascular</td>\n",
       "    </tr>\n",
       "    <tr>\n",
       "      <th>683</th>\n",
       "      <td>83</td>\n",
       "      <td>insurance_status_Self pay</td>\n",
       "    </tr>\n",
       "    <tr>\n",
       "      <th>682</th>\n",
       "      <td>79</td>\n",
       "      <td>meds_psychotherapeuticdrugs</td>\n",
       "    </tr>\n",
       "    <tr>\n",
       "      <th>681</th>\n",
       "      <td>77</td>\n",
       "      <td>triage_vital_sbp</td>\n",
       "    </tr>\n",
       "    <tr>\n",
       "      <th>680</th>\n",
       "      <td>77</td>\n",
       "      <td>insurance_status_Other</td>\n",
       "    </tr>\n",
       "    <tr>\n",
       "      <th>679</th>\n",
       "      <td>76</td>\n",
       "      <td>cc_abdominalpain</td>\n",
       "    </tr>\n",
       "    <tr>\n",
       "      <th>678</th>\n",
       "      <td>67</td>\n",
       "      <td>meds_analgesics</td>\n",
       "    </tr>\n",
       "    <tr>\n",
       "      <th>677</th>\n",
       "      <td>66</td>\n",
       "      <td>meds_gastrointestinal</td>\n",
       "    </tr>\n",
       "    <tr>\n",
       "      <th>676</th>\n",
       "      <td>63</td>\n",
       "      <td>triage_vital_dbp</td>\n",
       "    </tr>\n",
       "    <tr>\n",
       "      <th>675</th>\n",
       "      <td>60</td>\n",
       "      <td>meds_antiasthmatics</td>\n",
       "    </tr>\n",
       "    <tr>\n",
       "      <th>674</th>\n",
       "      <td>58</td>\n",
       "      <td>meds_antiarthritics</td>\n",
       "    </tr>\n",
       "    <tr>\n",
       "      <th>673</th>\n",
       "      <td>55</td>\n",
       "      <td>arrivalmode_ambulance</td>\n",
       "    </tr>\n",
       "    <tr>\n",
       "      <th>672</th>\n",
       "      <td>53</td>\n",
       "      <td>dep_name_B</td>\n",
       "    </tr>\n",
       "    <tr>\n",
       "      <th>671</th>\n",
       "      <td>52</td>\n",
       "      <td>meds_vitamins</td>\n",
       "    </tr>\n",
       "    <tr>\n",
       "      <th>670</th>\n",
       "      <td>51</td>\n",
       "      <td>previousdispo_Admit</td>\n",
       "    </tr>\n",
       "    <tr>\n",
       "      <th>669</th>\n",
       "      <td>49</td>\n",
       "      <td>cc_chestpain</td>\n",
       "    </tr>\n",
       "    <tr>\n",
       "      <th>668</th>\n",
       "      <td>48</td>\n",
       "      <td>cc_suicidal</td>\n",
       "    </tr>\n",
       "    <tr>\n",
       "      <th>667</th>\n",
       "      <td>47</td>\n",
       "      <td>dep_name_C</td>\n",
       "    </tr>\n",
       "    <tr>\n",
       "      <th>665</th>\n",
       "      <td>45</td>\n",
       "      <td>cc_motorvehiclecrash</td>\n",
       "    </tr>\n",
       "    <tr>\n",
       "      <th>666</th>\n",
       "      <td>45</td>\n",
       "      <td>meds_antihyperglycemics</td>\n",
       "    </tr>\n",
       "    <tr>\n",
       "      <th>664</th>\n",
       "      <td>44</td>\n",
       "      <td>cc_psychiatricevaluation</td>\n",
       "    </tr>\n",
       "    <tr>\n",
       "      <th>663</th>\n",
       "      <td>43</td>\n",
       "      <td>meds_antibiotics</td>\n",
       "    </tr>\n",
       "    <tr>\n",
       "      <th>662</th>\n",
       "      <td>42</td>\n",
       "      <td>n_surgeries</td>\n",
       "    </tr>\n",
       "    <tr>\n",
       "      <th>...</th>\n",
       "      <td>...</td>\n",
       "      <td>...</td>\n",
       "    </tr>\n",
       "    <tr>\n",
       "      <th>213</th>\n",
       "      <td>0</td>\n",
       "      <td>osteoarthros</td>\n",
       "    </tr>\n",
       "    <tr>\n",
       "      <th>214</th>\n",
       "      <td>0</td>\n",
       "      <td>osteoporosis</td>\n",
       "    </tr>\n",
       "    <tr>\n",
       "      <th>215</th>\n",
       "      <td>0</td>\n",
       "      <td>otacqdefor</td>\n",
       "    </tr>\n",
       "    <tr>\n",
       "      <th>216</th>\n",
       "      <td>0</td>\n",
       "      <td>otbonedx</td>\n",
       "    </tr>\n",
       "    <tr>\n",
       "      <th>217</th>\n",
       "      <td>0</td>\n",
       "      <td>otcomplbir</td>\n",
       "    </tr>\n",
       "    <tr>\n",
       "      <th>218</th>\n",
       "      <td>0</td>\n",
       "      <td>otdxbladdr</td>\n",
       "    </tr>\n",
       "    <tr>\n",
       "      <th>219</th>\n",
       "      <td>0</td>\n",
       "      <td>otdxstomch</td>\n",
       "    </tr>\n",
       "    <tr>\n",
       "      <th>220</th>\n",
       "      <td>0</td>\n",
       "      <td>otfemalgen</td>\n",
       "    </tr>\n",
       "    <tr>\n",
       "      <th>221</th>\n",
       "      <td>0</td>\n",
       "      <td>othbactinf</td>\n",
       "    </tr>\n",
       "    <tr>\n",
       "      <th>222</th>\n",
       "      <td>0</td>\n",
       "      <td>othcnsinfx</td>\n",
       "    </tr>\n",
       "    <tr>\n",
       "      <th>223</th>\n",
       "      <td>0</td>\n",
       "      <td>othercvd</td>\n",
       "    </tr>\n",
       "    <tr>\n",
       "      <th>208</th>\n",
       "      <td>0</td>\n",
       "      <td>nitriteua_count</td>\n",
       "    </tr>\n",
       "    <tr>\n",
       "      <th>207</th>\n",
       "      <td>0</td>\n",
       "      <td>nervcongan</td>\n",
       "    </tr>\n",
       "    <tr>\n",
       "      <th>206</th>\n",
       "      <td>0</td>\n",
       "      <td>mycoses</td>\n",
       "    </tr>\n",
       "    <tr>\n",
       "      <th>197</th>\n",
       "      <td>0</td>\n",
       "      <td>meds_herbals</td>\n",
       "    </tr>\n",
       "    <tr>\n",
       "      <th>191</th>\n",
       "      <td>0</td>\n",
       "      <td>meds_antifungals</td>\n",
       "    </tr>\n",
       "    <tr>\n",
       "      <th>192</th>\n",
       "      <td>0</td>\n",
       "      <td>meds_antihistamineanddecongestantcombination</td>\n",
       "    </tr>\n",
       "    <tr>\n",
       "      <th>193</th>\n",
       "      <td>0</td>\n",
       "      <td>meds_antiinfectives</td>\n",
       "    </tr>\n",
       "    <tr>\n",
       "      <th>194</th>\n",
       "      <td>0</td>\n",
       "      <td>meds_biologicals</td>\n",
       "    </tr>\n",
       "    <tr>\n",
       "      <th>195</th>\n",
       "      <td>0</td>\n",
       "      <td>meds_blood</td>\n",
       "    </tr>\n",
       "    <tr>\n",
       "      <th>196</th>\n",
       "      <td>0</td>\n",
       "      <td>meds_diagnostic</td>\n",
       "    </tr>\n",
       "    <tr>\n",
       "      <th>198</th>\n",
       "      <td>0</td>\n",
       "      <td>meds_investigational</td>\n",
       "    </tr>\n",
       "    <tr>\n",
       "      <th>205</th>\n",
       "      <td>0</td>\n",
       "      <td>multmyeloma</td>\n",
       "    </tr>\n",
       "    <tr>\n",
       "      <th>199</th>\n",
       "      <td>0</td>\n",
       "      <td>meds_smokingdeterrents</td>\n",
       "    </tr>\n",
       "    <tr>\n",
       "      <th>200</th>\n",
       "      <td>0</td>\n",
       "      <td>meningitis</td>\n",
       "    </tr>\n",
       "    <tr>\n",
       "      <th>201</th>\n",
       "      <td>0</td>\n",
       "      <td>menopausldx</td>\n",
       "    </tr>\n",
       "    <tr>\n",
       "      <th>202</th>\n",
       "      <td>0</td>\n",
       "      <td>menstrualdx</td>\n",
       "    </tr>\n",
       "    <tr>\n",
       "      <th>203</th>\n",
       "      <td>0</td>\n",
       "      <td>miscellaneousmentalhealthdisorders</td>\n",
       "    </tr>\n",
       "    <tr>\n",
       "      <th>204</th>\n",
       "      <td>0</td>\n",
       "      <td>ms</td>\n",
       "    </tr>\n",
       "    <tr>\n",
       "      <th>0</th>\n",
       "      <td>0</td>\n",
       "      <td>abortcompl</td>\n",
       "    </tr>\n",
       "  </tbody>\n",
       "</table>\n",
       "<p>692 rows × 2 columns</p>\n",
       "</div>"
      ],
      "text/plain": [
       "     Value                                       Feature\n",
       "691    218                                           esi\n",
       "690    202                                           age\n",
       "689    140                                    n_edvisits\n",
       "688    136                               triage_vital_hr\n",
       "687    133                                  n_admissions\n",
       "686     97                             triage_vital_temp\n",
       "685     96                                    dep_name_A\n",
       "684     90                           meds_cardiovascular\n",
       "683     83                     insurance_status_Self pay\n",
       "682     79                   meds_psychotherapeuticdrugs\n",
       "681     77                              triage_vital_sbp\n",
       "680     77                        insurance_status_Other\n",
       "679     76                              cc_abdominalpain\n",
       "678     67                               meds_analgesics\n",
       "677     66                         meds_gastrointestinal\n",
       "676     63                              triage_vital_dbp\n",
       "675     60                           meds_antiasthmatics\n",
       "674     58                           meds_antiarthritics\n",
       "673     55                         arrivalmode_ambulance\n",
       "672     53                                    dep_name_B\n",
       "671     52                                 meds_vitamins\n",
       "670     51                           previousdispo_Admit\n",
       "669     49                                  cc_chestpain\n",
       "668     48                                   cc_suicidal\n",
       "667     47                                    dep_name_C\n",
       "665     45                          cc_motorvehiclecrash\n",
       "666     45                       meds_antihyperglycemics\n",
       "664     44                      cc_psychiatricevaluation\n",
       "663     43                              meds_antibiotics\n",
       "662     42                                   n_surgeries\n",
       "..     ...                                           ...\n",
       "213      0                                  osteoarthros\n",
       "214      0                                  osteoporosis\n",
       "215      0                                    otacqdefor\n",
       "216      0                                      otbonedx\n",
       "217      0                                    otcomplbir\n",
       "218      0                                    otdxbladdr\n",
       "219      0                                    otdxstomch\n",
       "220      0                                    otfemalgen\n",
       "221      0                                    othbactinf\n",
       "222      0                                    othcnsinfx\n",
       "223      0                                      othercvd\n",
       "208      0                               nitriteua_count\n",
       "207      0                                    nervcongan\n",
       "206      0                                       mycoses\n",
       "197      0                                  meds_herbals\n",
       "191      0                              meds_antifungals\n",
       "192      0  meds_antihistamineanddecongestantcombination\n",
       "193      0                           meds_antiinfectives\n",
       "194      0                              meds_biologicals\n",
       "195      0                                    meds_blood\n",
       "196      0                               meds_diagnostic\n",
       "198      0                          meds_investigational\n",
       "205      0                                   multmyeloma\n",
       "199      0                        meds_smokingdeterrents\n",
       "200      0                                    meningitis\n",
       "201      0                                   menopausldx\n",
       "202      0                                   menstrualdx\n",
       "203      0            miscellaneousmentalhealthdisorders\n",
       "204      0                                            ms\n",
       "0        0                                    abortcompl\n",
       "\n",
       "[692 rows x 2 columns]"
      ]
     },
     "execution_count": 15,
     "metadata": {},
     "output_type": "execute_result"
    }
   ],
   "source": [
    "df_features = print_feature_importance_lgbm(model)\n",
    "df_features"
   ]
  },
  {
   "cell_type": "code",
   "execution_count": null,
   "metadata": {},
   "outputs": [],
   "source": [
    "%%time\n",
    "model = LGBMClassifier(objective='binary', is_unbalance=True, boosting_type='gbdt', max_depth=20, num_leaves=50)\n",
    "execute_model_stratified_kfold(model)"
   ]
  },
  {
   "cell_type": "code",
   "execution_count": 38,
   "metadata": {},
   "outputs": [],
   "source": [
    "params = {'boosting_type': 'gbdt',\n",
    "          'max_depth' : -1,\n",
    "          'objective': 'binary',\n",
    "          'nthread': 3, # Updated from nthread\n",
    "          'num_leaves': 64,\n",
    "          'learning_rate': 0.05,\n",
    "          'max_bin': 512,\n",
    "          'subsample_for_bin': 200,\n",
    "          'subsample': 1,\n",
    "          'subsample_freq': 1,\n",
    "          'colsample_bytree': 0.8,\n",
    "          'reg_alpha': 5,\n",
    "          'reg_lambda': 10,\n",
    "          'min_split_gain': 0.5,\n",
    "          'min_child_weight': 1,\n",
    "          'min_child_samples': 5,\n",
    "          'scale_pos_weight': 1,\n",
    "          'num_class' : 1,\n",
    "          'metric' : 'binary_error'}\n",
    "\n",
    "# Create parameters to search\n",
    "gridParams = {\n",
    "    #0.15,\n",
    "    'learning_rate': [0.2, 0.15],\n",
    "    'n_estimators': [80, 120],\n",
    "    'num_leaves': [30, 40, 60],\n",
    "    'boosting_type' : ['gbdt'],\n",
    "    'objective' : ['binary'],\n",
    "    'random_state' : [42], # Updated from 'seed'\n",
    "#     'colsample_bytree' : [0.65, 0.66],\n",
    "#     'subsample' : [0.7,0.75],\n",
    "#     'reg_alpha' : [1,1.2],\n",
    "#     'reg_lambda' : [1,1.2,1.4],\n",
    "    }\n"
   ]
  },
  {
   "cell_type": "code",
   "execution_count": 3,
   "metadata": {},
   "outputs": [],
   "source": [
    "??LGBMClassifier"
   ]
  },
  {
   "cell_type": "code",
   "execution_count": 39,
   "metadata": {},
   "outputs": [],
   "source": [
    "mdl = LGBMClassifier(boosting_type= 'gbdt',\n",
    "          objective = 'binary',\n",
    "          n_jobs = 3, # Updated from 'nthread'\n",
    "          silent = True,\n",
    "          is_unbalance=True,\n",
    "          max_depth = params['max_depth'],\n",
    "          max_bin = params['max_bin'],\n",
    "          subsample_for_bin = params['subsample_for_bin'],\n",
    "          subsample = params['subsample'],\n",
    "          subsample_freq = params['subsample_freq'],\n",
    "          min_split_gain = params['min_split_gain'],\n",
    "          min_child_weight = params['min_child_weight'],\n",
    "          min_child_samples = params['min_child_samples'],\n",
    "          scale_pos_weight = params['scale_pos_weight'])\n"
   ]
  },
  {
   "cell_type": "code",
   "execution_count": 40,
   "metadata": {},
   "outputs": [
    {
     "name": "stdout",
     "output_type": "stream",
     "text": [
      "CPU times: user 34.6 s, sys: 3.97 s, total: 38.6 s\n",
      "Wall time: 5min 49s\n"
     ]
    },
    {
     "data": {
      "text/plain": [
       "GridSearchCV(cv=4, error_score='raise-deprecating',\n",
       "             estimator=LGBMClassifier(boosting_type='gbdt', class_weight=None,\n",
       "                                      colsample_bytree=1.0,\n",
       "                                      importance_type='split',\n",
       "                                      is_unbalance=True, learning_rate=0.1,\n",
       "                                      max_bin=512, max_depth=-1,\n",
       "                                      min_child_samples=5, min_child_weight=1,\n",
       "                                      min_split_gain=0.5, n_estimators=100,\n",
       "                                      n_jobs=3, num_leaves=31,\n",
       "                                      objective='binary', random_state=...\n",
       "                                      reg_alpha=0.0, reg_lambda=0.0,\n",
       "                                      scale_pos_weight=1, silent=True,\n",
       "                                      subsample=1, subsample_for_bin=200,\n",
       "                                      subsample_freq=1),\n",
       "             iid='warn', n_jobs=2,\n",
       "             param_grid={'boosting_type': ['gbdt'],\n",
       "                         'learning_rate': [0.2, 0.15],\n",
       "                         'n_estimators': [80, 120], 'num_leaves': [30, 40, 60],\n",
       "                         'objective': ['binary'], 'random_state': [42]},\n",
       "             pre_dispatch='2*n_jobs', refit=True, return_train_score=False,\n",
       "             scoring=None, verbose=0)"
      ]
     },
     "execution_count": 40,
     "metadata": {},
     "output_type": "execute_result"
    }
   ],
   "source": [
    "%%time\n",
    "grid = GridSearchCV(mdl, gridParams,\n",
    "                    verbose=0,\n",
    "                    cv=4,\n",
    "                    n_jobs=2)\n",
    "grid.fit(X_train, Y_train)"
   ]
  },
  {
   "cell_type": "code",
   "execution_count": 42,
   "metadata": {},
   "outputs": [
    {
     "name": "stdout",
     "output_type": "stream",
     "text": [
      "{'boosting_type': 'gbdt', 'learning_rate': 0.15, 'n_estimators': 120, 'num_leaves': 60, 'objective': 'binary', 'random_state': 42}\n",
      "0.8468686144470335\n",
      "Score = 0.84914 \n",
      "Precision = 0.70772 \n",
      "Recall = 0.83469 \n",
      "AUC = 0.84495\n"
     ]
    },
    {
     "data": {
      "image/png": "[encoded data removed]",
      "text/plain": [
       "<Figure size 432x288 with 2 Axes>"
      ]
     },
     "metadata": {
      "needs_background": "light"
     },
     "output_type": "display_data"
    }
   ],
   "source": [
    "print(grid.best_params_)\n",
    "print(grid.best_score_)\n",
    "plot_score(grid.best_estimator_)"
   ]
  },
  {
   "cell_type": "code",
   "execution_count": 37,
   "metadata": {},
   "outputs": [
    {
     "ename": "TypeError",
     "evalue": "score() missing 1 required positional argument: 'X'",
     "output_type": "error",
     "traceback": [
      "\u001b[0;31m---------------------------------------------------------------------------\u001b[0m",
      "\u001b[0;31mTypeError\u001b[0m                                 Traceback (most recent call last)",
      "\u001b[0;32m<ipython-input-37-8641b44b79b7>\u001b[0m in \u001b[0;36m<module>\u001b[0;34m\u001b[0m\n\u001b[0;32m----> 1\u001b[0;31m \u001b[0mgrid\u001b[0m\u001b[0;34m.\u001b[0m\u001b[0mscore\u001b[0m\u001b[0;34m(\u001b[0m\u001b[0;34m)\u001b[0m\u001b[0;34m\u001b[0m\u001b[0;34m\u001b[0m\u001b[0m\n\u001b[0m",
      "\u001b[0;31mTypeError\u001b[0m: score() missing 1 required positional argument: 'X'"
     ]
    }
   ],
   "source": []
  },
  {
   "cell_type": "code",
   "execution_count": 26,
   "metadata": {},
   "outputs": [
    {
     "name": "stdout",
     "output_type": "stream",
     "text": [
      "CPU times: user 4min 31s, sys: 3.79 s, total: 4min 34s\n",
      "Wall time: 1min\n"
     ]
    },
    {
     "data": {
      "text/plain": [
       "XGBClassifier(base_score=0.5, booster='gbtree', colsample_bylevel=0.05,\n",
       "              colsample_bynode=1, colsample_bytree=1, gamma=0,\n",
       "              learning_rate=0.3, max_delta_step=0, max_depth=20,\n",
       "              min_child_weight=1, missing=None, n_estimators=100, n_jobs=1,\n",
       "              nrounds=30, nthread=5, objective='binary:logistic',\n",
       "              random_state=0, reg_alpha=0, reg_lambda=1, scale_pos_weight=1,\n",
       "              seed=None, silent=None, subsample=1, verbosity=1)"
      ]
     },
     "execution_count": 26,
     "metadata": {},
     "output_type": "execute_result"
    }
   ],
   "source": [
    "%%time\n",
    "model_xgb = XGBClassifier(max_depth=20, nrounds=30, colsample_bylevel=0.05, nthread=5,  learning_rate=0.3)\n",
    "model_xgb.fit(X_train, Y_train, eval_metric='auc')\n",
    "# execute_model_stratified_kfold(model_xgb)"
   ]
  },
  {
   "cell_type": "code",
   "execution_count": 29,
   "metadata": {},
   "outputs": [
    {
     "name": "stdout",
     "output_type": "stream",
     "text": [
      "Score = 0.86971 \n",
      "Precision Ingresados = 0.88617 \n",
      "Precision No Ingresados = 0.82270 \n",
      "Recall Ingresados = 0.93453 \n",
      "Recall No Ingresados = 0.71677 \n",
      "AUC = 0.82565\n"
     ]
    },
    {
     "data": {
      "image/png": "[encoded data removed]",
      "text/plain": [
       "<Figure size 432x288 with 2 Axes>"
      ]
     },
     "metadata": {
      "needs_background": "light"
     },
     "output_type": "display_data"
    },
    {
     "data": {
      "image/png": "[encoded data removed]",
      "text/plain": [
       "<Figure size 432x288 with 1 Axes>"
      ]
     },
     "metadata": {
      "needs_background": "light"
     },
     "output_type": "display_data"
    }
   ],
   "source": [
    "model_xgb = XGBClassifier(max_depth=20, nrounds=30, colsample_bylevel=0.05, nthread=5,  learning_rate=0.3)\n",
    "model_xgb.fit(X_train, Y_train, eval_metric='auc')\n",
    "plot_score(model_xgb)"
   ]
  },
  {
   "cell_type": "code",
   "execution_count": 112,
   "metadata": {},
   "outputs": [
    {
     "name": "stdout",
     "output_type": "stream",
     "text": [
      "CPU times: user 31.3 s, sys: 17.8 ms, total: 31.3 s\n",
      "Wall time: 6.36 s\n"
     ]
    },
    {
     "data": {
      "text/plain": [
       "XGBClassifier(base_score=0.5, booster='gbtree', colsample_bylevel=0.05,\n",
       "              colsample_bynode=1, colsample_bytree=1, gamma=0,\n",
       "              learning_rate=0.3, max_delta_step=0, max_depth=20,\n",
       "              min_child_weight=1, missing=None, n_estimators=100, n_jobs=1,\n",
       "              nrounds=30, nthread=5, objective='binary:logistic',\n",
       "              random_state=0, reg_alpha=0, reg_lambda=1, scale_pos_weight=1,\n",
       "              seed=None, silent=None, subsample=1, verbosity=1)"
      ]
     },
     "execution_count": 112,
     "metadata": {},
     "output_type": "execute_result"
    }
   ],
   "source": [
    "%%time\n",
    "highest_corr_x = ['meds_cardiovascular',\n",
    " 'esi',\n",
    " 'meds_gastrointestinal',\n",
    " 'meds_vitamins',\n",
    " 'meds_analgesics',\n",
    " 'meds_antiplateletdrugs',\n",
    " 'meds_psychotherapeuticdrugs',\n",
    " 'meds_diuretics',\n",
    " 'meds_cardiacdrugs',\n",
    " 'meds_elect/caloric/h2o',\n",
    " 'meds_antiasthmatics',\n",
    " 'meds_antihyperglycemics',\n",
    " 'htn',\n",
    " 'meds_cnsdrugs',\n",
    " 'meds_unclassifieddrugproducts',\n",
    " 'meds_anticoagulants',\n",
    " 'meds_thyroidpreps',\n",
    " 'meds_eentpreps',\n",
    " 'meds_hormones',\n",
    " 'meds_antiarthritics',\n",
    " 'n_surgeries',\n",
    " 'coronathero',\n",
    " 'hyperlipidem',\n",
    " 'chfnonhp',\n",
    " 'n_admissions',\n",
    " 'meds_antibiotics',\n",
    " 'arrivalmode',\n",
    " 'diabmelnoc',\n",
    " 'chrkidneydisease',\n",
    " 'dysrhythmia']\n",
    "\n",
    "model_xgb_2 = XGBClassifier(max_depth=20, nrounds=30, colsample_bylevel=0.05, nthread=5,  learning_rate=0.3)\n",
    "model_xgb_2.fit(X_train[highest_corr_x], Y_train, eval_metric='auc')"
   ]
  },
  {
   "cell_type": "code",
   "execution_count": 114,
   "metadata": {},
   "outputs": [
    {
     "name": "stdout",
     "output_type": "stream",
     "text": [
      "Score = 0.85348 \n",
      "Precision = 0.85231 \n",
      "Recall = 0.85348 \n",
      "AUC = 0.78781\n"
     ]
    },
    {
     "data": {
      "image/png": "[encoded data removed]",
      "text/plain": [
       "<Figure size 432x288 with 2 Axes>"
      ]
     },
     "metadata": {
      "needs_background": "light"
     },
     "output_type": "display_data"
    }
   ],
   "source": [
    "plot_score(model_xgb_2, X_train=X_train[highest_corr_x], X_test=X_test[highest_corr_x])"
   ]
  },
  {
   "cell_type": "code",
   "execution_count": 124,
   "metadata": {},
   "outputs": [
    {
     "data": {
      "image/png": "[encoded data removed]",
      "text/plain": [
       "<Figure size 432x288 with 1 Axes>"
      ]
     },
     "metadata": {
      "needs_background": "light"
     },
     "output_type": "display_data"
    }
   ],
   "source": [
    "y_pred = model_xgb_2.predict(X_test[highest_corr_x])\n",
    "# skplt.metrics.plot_roc_curve(Y_test, y_pred)\n",
    "# plt.show()\n",
    "fpr, tpr, thresholds = roc_curve(Y_test, y_pred)\n",
    "plt.plot(fpr,tpr)\n",
    "plt.show() "
   ]
  },
  {
   "cell_type": "code",
   "execution_count": 118,
   "metadata": {},
   "outputs": [],
   "source": [
    "# len(y_pred), len(Y_test)\n",
    "??skplt.metrics.plot_roc_curve"
   ]
  },
  {
   "cell_type": "code",
   "execution_count": 38,
   "metadata": {},
   "outputs": [],
   "source": [
    "??model_xgb.fit"
   ]
  },
  {
   "cell_type": "code",
   "execution_count": 140,
   "metadata": {},
   "outputs": [
    {
     "data": {
      "text/plain": [
       "(0.8568613794241097, 0.8415688298284092, 0.8415688298284092)"
      ]
     },
     "execution_count": 140,
     "metadata": {},
     "output_type": "execute_result"
    }
   ],
   "source": [
    "precision_score(Y_test, y_pred, pos_label=0), precision_score(Y_test, y_pred, pos_label=1), precision_score(Y_test, y_pred)"
   ]
  },
  {
   "cell_type": "code",
   "execution_count": 141,
   "metadata": {},
   "outputs": [
    {
     "data": {
      "text/plain": [
       "(0.9500868805316479, 0.6255424228620747, 0.6255424228620747)"
      ]
     },
     "execution_count": 141,
     "metadata": {},
     "output_type": "execute_result"
    }
   ],
   "source": [
    "recall_score(Y_test, y_pred, pos_label=0), recall_score(Y_test, y_pred, pos_label=1), recall_score(Y_test, y_pred)"
   ]
  },
  {
   "cell_type": "code",
   "execution_count": 19,
   "metadata": {},
   "outputs": [],
   "source": [
    "??XGBClassifier"
   ]
  },
  {
   "cell_type": "code",
   "execution_count": 20,
   "metadata": {},
   "outputs": [
    {
     "data": {
      "text/html": [
       "<div>\n",
       "<style scoped>\n",
       "    .dataframe tbody tr th:only-of-type {\n",
       "        vertical-align: middle;\n",
       "    }\n",
       "\n",
       "    .dataframe tbody tr th {\n",
       "        vertical-align: top;\n",
       "    }\n",
       "\n",
       "    .dataframe thead th {\n",
       "        text-align: right;\n",
       "    }\n",
       "</style>\n",
       "<table border=\"1\" class=\"dataframe\">\n",
       "  <thead>\n",
       "    <tr style=\"text-align: right;\">\n",
       "      <th></th>\n",
       "      <th>Value</th>\n",
       "      <th>Feature</th>\n",
       "    </tr>\n",
       "  </thead>\n",
       "  <tbody>\n",
       "    <tr>\n",
       "      <th>467</th>\n",
       "      <td>4</td>\n",
       "      <td>anemia</td>\n",
       "    </tr>\n",
       "  </tbody>\n",
       "</table>\n",
       "</div>"
      ],
      "text/plain": [
       "     Value Feature\n",
       "467      4  anemia"
      ]
     },
     "execution_count": 20,
     "metadata": {},
     "output_type": "execute_result"
    }
   ],
   "source": [
    "df_features[df_features[\"Feature\"] == 'anemia']"
   ]
  },
  {
   "cell_type": "code",
   "execution_count": 32,
   "metadata": {},
   "outputs": [],
   "source": [
    "pred_test = model_xgb.predict(X_test)\n"
   ]
  },
  {
   "cell_type": "code",
   "execution_count": 36,
   "metadata": {},
   "outputs": [
    {
     "data": {
      "text/plain": [
       "array([104169,  35953])"
      ]
     },
     "execution_count": 36,
     "metadata": {},
     "output_type": "execute_result"
    }
   ],
   "source": [
    "np.bincount(pred_test)"
   ]
  },
  {
   "cell_type": "code",
   "execution_count": 37,
   "metadata": {},
   "outputs": [
    {
     "data": {
      "text/plain": [
       "array([98411, 41711])"
      ]
     },
     "execution_count": 37,
     "metadata": {},
     "output_type": "execute_result"
    }
   ],
   "source": [
    "np.bincount(Y_test)"
   ]
  }
 ],
 "metadata": {
  "kernelspec": {
   "display_name": "Python 3",
   "language": "python",
   "name": "python3"
  },
  "language_info": {
   "codemirror_mode": {
    "name": "ipython",
    "version": 3
   },
   "file_extension": ".py",
   "mimetype": "text/x-python",
   "name": "python",
   "nbconvert_exporter": "python",
   "pygments_lexer": "ipython3",
   "version": "3.6.8"
  }
 },
 "nbformat": 4,
 "nbformat_minor": 2
}
